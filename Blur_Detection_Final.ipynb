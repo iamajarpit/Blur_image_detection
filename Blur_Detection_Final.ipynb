{
  "nbformat": 4,
  "nbformat_minor": 0,
  "metadata": {
    "colab": {
      "provenance": [],
      "authorship_tag": "ABX9TyN0Gn9lttKAbADUKtOUfKKr",
      "include_colab_link": true
    },
    "kernelspec": {
      "name": "python3",
      "display_name": "Python 3"
    },
    "language_info": {
      "name": "python"
    }
  },
  "cells": [
    {
      "cell_type": "markdown",
      "metadata": {
        "id": "view-in-github",
        "colab_type": "text"
      },
      "source": [
        "<a href=\"https://colab.research.google.com/github/iamajarpit/Blur_image_detection/blob/main/Blur_Detection_Final.ipynb\" target=\"_parent\"><img src=\"https://colab.research.google.com/assets/colab-badge.svg\" alt=\"Open In Colab\"/></a>"
      ]
    },
    {
      "cell_type": "code",
      "source": [
        "\n",
        "from google.colab import drive\n",
        "drive.mount('/content/drive')\n"
      ],
      "metadata": {
        "colab": {
          "base_uri": "https://localhost:8080/"
        },
        "id": "bucpU11pi8IA",
        "outputId": "d4ec61e4-af7c-4c68-bd73-9abddc9cac9f"
      },
      "execution_count": null,
      "outputs": [
        {
          "output_type": "stream",
          "name": "stdout",
          "text": [
            "Mounted at /content/drive\n"
          ]
        }
      ]
    },
    {
      "cell_type": "code",
      "execution_count": null,
      "metadata": {
        "id": "lfiCiSLCiMIx"
      },
      "outputs": [],
      "source": [
        "import os\n",
        "import numpy as np\n",
        "import matplotlib.pyplot as plt\n",
        "import tensorflow as tf\n",
        "from tensorflow.keras import layers, models\n",
        "from sklearn.model_selection import train_test_split\n",
        "from tensorflow.keras.preprocessing.image import ImageDataGenerator\n"
      ]
    },
    {
      "cell_type": "code",
      "source": [
        "def load_images_from_folder(folder):\n",
        "    images = []\n",
        "    for filename in os.listdir(folder):\n",
        "        img = tf.keras.preprocessing.image.load_img(\n",
        "            os.path.join(folder, filename),\n",
        "            target_size=(224, 224)  # Resize images to a consistent size\n",
        "        )\n",
        "        img = tf.keras.preprocessing.image.img_to_array(img)\n",
        "        images.append(img)\n",
        "    return np.array(images)\n",
        "\n",
        "blur_images = load_images_from_folder('/content/drive/MyDrive/BLUR DATASET/blur')\n",
        "non_blur_images = load_images_from_folder('/content/drive/MyDrive/BLUR DATASET/Non blur')\n",
        "\n",
        "# Create labels (1 for blur, 0 for non-blur)\n",
        "blur_labels = np.ones(len(blur_images))\n",
        "non_blur_labels = np.zeros(len(non_blur_images))\n",
        "\n",
        "# Concatenate images and labels\n",
        "X = np.concatenate((blur_images, non_blur_images), axis=0)\n",
        "y = np.concatenate((blur_labels, non_blur_labels), axis=0)\n",
        "\n",
        "# Split data into training and validation sets\n",
        "X_train, X_val, y_train, y_val = train_test_split(X, y, test_size=0.2, random_state=42)\n",
        "\n",
        "# Normalize pixel values to [0, 1]\n",
        "X_train = X_train / 255.0\n",
        "X_val = X_val / 255.0\n"
      ],
      "metadata": {
        "id": "GvKESJ6EifOL"
      },
      "execution_count": null,
      "outputs": []
    },
    {
      "cell_type": "code",
      "source": [
        "model = models.Sequential([\n",
        "    layers.Conv2D(32, (3, 3), activation='relu', input_shape=(224, 224, 3)),\n",
        "    layers.MaxPooling2D((2, 2)),\n",
        "    layers.Conv2D(64, (3, 3), activation='relu'),\n",
        "    layers.MaxPooling2D((2, 2)),\n",
        "    layers.Conv2D(128, (3, 3), activation='relu'),\n",
        "    layers.MaxPooling2D((2, 2)),\n",
        "    layers.Flatten(),\n",
        "    layers.Dense(128, activation='relu'),\n",
        "    layers.Dropout(0.5),\n",
        "    layers.Dense(1, activation='sigmoid')\n",
        "])\n",
        "\n",
        "model.compile(optimizer='adam', loss='binary_crossentropy', metrics=['accuracy'])\n"
      ],
      "metadata": {
        "id": "1pA1fqdrmhrJ"
      },
      "execution_count": null,
      "outputs": []
    },
    {
      "cell_type": "code",
      "source": [
        "train_datagen = ImageDataGenerator(\n",
        "    rotation_range=20,\n",
        "    width_shift_range=0.2,\n",
        "    height_shift_range=0.2,\n",
        "    shear_range=0.2,\n",
        "    zoom_range=0.2,\n",
        "    horizontal_flip=True,\n",
        "    fill_mode='nearest'\n",
        ")\n",
        "\n",
        "train_generator = train_datagen.flow(X_train, y_train, batch_size=32)\n"
      ],
      "metadata": {
        "id": "_wo1fQy4ml_6"
      },
      "execution_count": null,
      "outputs": []
    },
    {
      "cell_type": "code",
      "source": [
        "history = model.fit(\n",
        "    train_generator,\n",
        "    steps_per_epoch=len(X_train) // 32,  # Adjust batch size and steps per epoch as needed\n",
        "    epochs=10,\n",
        "    validation_data=(X_val, y_val)\n",
        ")\n"
      ],
      "metadata": {
        "colab": {
          "base_uri": "https://localhost:8080/"
        },
        "id": "XwFJE7FhmrTA",
        "outputId": "b4cf9f2a-78c9-4820-cb4a-dfa2f7ee2dcc"
      },
      "execution_count": null,
      "outputs": [
        {
          "output_type": "stream",
          "name": "stdout",
          "text": [
            "Epoch 1/10\n",
            "26/26 [==============================] - 130s 5s/step - loss: 0.3335 - accuracy: 0.8676 - val_loss: 0.5860 - val_accuracy: 0.7667\n",
            "Epoch 2/10\n",
            "26/26 [==============================] - 116s 4s/step - loss: 0.3543 - accuracy: 0.8626 - val_loss: 0.3453 - val_accuracy: 0.8810\n",
            "Epoch 3/10\n",
            "26/26 [==============================] - 111s 4s/step - loss: 0.3339 - accuracy: 0.8787 - val_loss: 0.2913 - val_accuracy: 0.9048\n",
            "Epoch 4/10\n",
            "26/26 [==============================] - 112s 4s/step - loss: 0.4057 - accuracy: 0.8465 - val_loss: 0.4715 - val_accuracy: 0.7762\n",
            "Epoch 5/10\n",
            "26/26 [==============================] - 140s 5s/step - loss: 0.3145 - accuracy: 0.8936 - val_loss: 0.5185 - val_accuracy: 0.7667\n",
            "Epoch 6/10\n",
            "26/26 [==============================] - 124s 5s/step - loss: 0.3437 - accuracy: 0.8676 - val_loss: 0.4359 - val_accuracy: 0.8095\n",
            "Epoch 7/10\n",
            "26/26 [==============================] - 111s 4s/step - loss: 0.3181 - accuracy: 0.8837 - val_loss: 0.2645 - val_accuracy: 0.8905\n",
            "Epoch 8/10\n",
            "26/26 [==============================] - 117s 5s/step - loss: 0.3583 - accuracy: 0.8725 - val_loss: 0.3402 - val_accuracy: 0.8762\n",
            "Epoch 9/10\n",
            "26/26 [==============================] - 111s 4s/step - loss: 0.3342 - accuracy: 0.8824 - val_loss: 0.3766 - val_accuracy: 0.8381\n",
            "Epoch 10/10\n",
            "26/26 [==============================] - 111s 4s/step - loss: 0.3160 - accuracy: 0.8861 - val_loss: 0.4191 - val_accuracy: 0.8048\n"
          ]
        }
      ]
    },
    {
      "cell_type": "code",
      "source": [
        "plt.plot(history.history['accuracy'], label='accuracy')\n",
        "plt.plot(history.history['val_accuracy'], label = 'val_accuracy')\n",
        "plt.xlabel('Epoch')\n",
        "plt.ylabel('Accuracy')\n",
        "plt.ylim([0, 1])\n",
        "plt.legend(loc='lower right')\n",
        "plt.show()\n",
        "\n",
        "test_loss, test_acc = model.evaluate(X_val, y_val, verbose=2)\n",
        "print(f'Test accuracy: {test_acc}')\n"
      ],
      "metadata": {
        "colab": {
          "base_uri": "https://localhost:8080/",
          "height": 490
        },
        "id": "qCBvPeMAsD3l",
        "outputId": "ea13dce9-47c9-4377-e8d1-beaaee392cbc"
      },
      "execution_count": null,
      "outputs": [
        {
          "output_type": "display_data",
          "data": {
            "text/plain": [
              "<Figure size 640x480 with 1 Axes>"
            ],
            "image/png": "[encoded data removed]"
          },
          "metadata": {}
        },
        {
          "output_type": "stream",
          "name": "stdout",
          "text": [
            "7/7 - 7s - loss: 0.4191 - accuracy: 0.8048 - 7s/epoch - 1s/step\n",
            "Test accuracy: 0.8047618865966797\n"
          ]
        }
      ]
    },
    {
      "cell_type": "code",
      "source": [
        "# Save the trained model to a file\n",
        "model.save('blur_detection_model.h5')\n"
      ],
      "metadata": {
        "colab": {
          "base_uri": "https://localhost:8080/"
        },
        "id": "jxlVSIXzs3pP",
        "outputId": "662f1c8d-0474-401c-9a13-7bdc716f465c"
      },
      "execution_count": null,
      "outputs": [
        {
          "output_type": "stream",
          "name": "stderr",
          "text": [
            "/usr/local/lib/python3.10/dist-packages/keras/src/engine/training.py:3103: UserWarning: You are saving your model as an HDF5 file via `model.save()`. This file format is considered legacy. We recommend using instead the native Keras format, e.g. `model.save('my_model.keras')`.\n",
            "  saving_api.save_model(\n"
          ]
        }
      ]
    },
    {
      "cell_type": "code",
      "source": [
        "import cv2\n",
        "import numpy as np\n",
        "from tensorflow.keras.models import load_model\n",
        "from tensorflow.keras.preprocessing.image import img_to_array\n",
        "\n",
        "# Load the trained model\n",
        "model_path = '/content/blur_detection_model.h5'  # Update the path to your model\n",
        "loaded_model = load_model(model_path)\n",
        "\n",
        "def is_blurred(image_path, threshold=0.4):\n",
        "    img = cv2.imread(image_path)\n",
        "    img = cv2.cvtColor(img, cv2.COLOR_BGR2RGB)  # Convert image to RGB format\n",
        "    img = cv2.resize(img, (224, 224))  # Resize image to match model input size\n",
        "    img = img_to_array(img) / 255.0  # Convert to array and normalize pixel values\n",
        "\n",
        "    # Expand dimensions to match model input shape\n",
        "    img = np.expand_dims(img, axis=0)\n",
        "\n",
        "    # Predict blur probability\n",
        "    prediction = loaded_model.predict(img)\n",
        "\n",
        "    # Check if blur probability exceeds threshold\n",
        "    if prediction[0][0] >= threshold:\n",
        "        return True\n",
        "    else:\n",
        "        return False\n",
        "\n",
        "# Example usage\n",
        "image_path = '/content/drive/MyDrive/BLUR DATASET/blur/105_IPHONE-SE_M.jpg'  # Update the path to your test image\n",
        "is_blur = is_blurred(image_path)\n",
        "\n",
        "if is_blur:\n",
        "    print('The image is blurred.')\n",
        "else:\n",
        "    print('The image is not blurred.')\n"
      ],
      "metadata": {
        "colab": {
          "base_uri": "https://localhost:8080/"
        },
        "id": "NTD3vCA9tAGX",
        "outputId": "e8fc4eb4-ab21-4896-fdc8-33f43818b867"
      },
      "execution_count": null,
      "outputs": [
        {
          "output_type": "stream",
          "name": "stdout",
          "text": [
            "1/1 [==============================] - 0s 116ms/step\n",
            "The image is blurred.\n"
          ]
        }
      ]
    },
    {
      "cell_type": "code",
      "source": [
        "from tensorflow.keras.models import load_model\n",
        "from tensorflow.keras.preprocessing.image import img_to_array\n",
        "import cv2\n",
        "import numpy as np\n",
        "\n",
        "# Load the trained model\n",
        "model_path = '/content/blur_detection_model.h5'  # Update this path to your saved model location\n",
        "model = load_model(model_path)\n",
        "\n",
        "# Function to predict if an image is blurred or not\n",
        "def is_blurred(image_path, model, threshold=0.4):\n",
        "    img = cv2.imread(image_path)\n",
        "    img = cv2.cvtColor(img, cv2.COLOR_BGR2RGB)  # Convert image to RGB format\n",
        "    img = cv2.resize(img, (224, 224))  # Resize image to match model input size\n",
        "    img = img_to_array(img) / 255.0  # Convert to array and normalize pixel values\n",
        "\n",
        "    # Expand dimensions to match model input shape\n",
        "    img = np.expand_dims(img, axis=0)\n",
        "\n",
        "    # Predict blur probability\n",
        "    prediction = model.predict(img)\n",
        "\n",
        "    # Check if blur probability exceeds threshold\n",
        "    if prediction[0][0] >= threshold:\n",
        "        return True\n",
        "    else:\n",
        "        return False\n",
        "\n",
        "# Example usage with a placeholder path\n",
        "test_image_path = '/content/drive/MyDrive/BLUR DATASET/blur/105_IPHONE-SE_M.jpg'  # Update this path to your test image location\n",
        "print(is_blurred(test_image_path, model))\n"
      ],
      "metadata": {
        "colab": {
          "base_uri": "https://localhost:8080/"
        },
        "id": "d8DU7bYDWTcL",
        "outputId": "654fd6a8-3638-4bfa-ee48-c4da314264ba"
      },
      "execution_count": null,
      "outputs": [
        {
          "output_type": "stream",
          "name": "stderr",
          "text": [
            "WARNING:tensorflow:6 out of the last 6 calls to <function Model.make_predict_function.<locals>.predict_function at 0x7846badad240> triggered tf.function retracing. Tracing is expensive and the excessive number of tracings could be due to (1) creating @tf.function repeatedly in a loop, (2) passing tensors with different shapes, (3) passing Python objects instead of tensors. For (1), please define your @tf.function outside of the loop. For (2), @tf.function has reduce_retracing=True option that can avoid unnecessary retracing. For (3), please refer to https://www.tensorflow.org/guide/function#controlling_retracing and https://www.tensorflow.org/api_docs/python/tf/function for  more details.\n"
          ]
        },
        {
          "output_type": "stream",
          "name": "stdout",
          "text": [
            "1/1 [==============================] - 0s 118ms/step\n",
            "True\n"
          ]
        }
      ]
    }
  ]
}